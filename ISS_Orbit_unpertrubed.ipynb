{
 "cells": [
  {
   "cell_type": "markdown",
   "id": "1937ca66-05d9-494c-80a6-0f110dca981b",
   "metadata": {},
   "source": [
    "**Mixalis Nikitaras**  \n",
    "# Computational Dynamics, Astrodynamics and Applications\n",
    "## Exercise 2\n",
    "### Task 1"
   ]
  },
  {
   "cell_type": "code",
   "execution_count": null,
   "id": "63569d60-b106-42b2-bbe9-6ef4a563d17b",
   "metadata": {},
   "outputs": [],
   "source": [
    "import numpy as np\n",
    "from matplotlib import pyplot as plt\n",
    "from mpl_toolkits.mplot3d import Axes3D\n",
    "from scipy.integrate import solve_ivp\n",
    "import math as m"
   ]
  },
  {
   "cell_type": "code",
   "execution_count": 2,
   "id": "bdaf4c83-2a63-4caa-9b89-7894cc68a5b7",
   "metadata": {},
   "outputs": [],
   "source": [
    "#Cartesian Elements to Keplerian\n",
    "def car2kep(car,GM):\n",
    "    x,y,vx,vy=car\n",
    "    \n",
    "    r_vec=[x,y]\n",
    "    r=np.linalg.norm(r_vec)\n",
    "    v_vec=[vx,vy]\n",
    "    v=np.linalg.norm(v_vec)\n",
    "    Energy=0.5*v**2 - GM/r\n",
    "    a=-GM/(2*Energy)\n",
    "    rv=np.dot(r_vec,v_vec)\n",
    "    e1=(v**2/GM - 1/r)*x - rv/GM*vx\n",
    "    e2=(v**2/GM - 1/r)*y - rv/GM*vy\n",
    "    \n",
    "    e_vec=[e1,e2]\n",
    "    e=np.linalg.norm(e_vec)\n",
    "    \n",
    "    return [a,e]"
   ]
  },
  {
   "cell_type": "code",
   "execution_count": 3,
   "id": "9d3b3d42-d2da-4274-8c9b-77cf838e4304",
   "metadata": {},
   "outputs": [],
   "source": [
    "#Define System of Differential Equations\n",
    "def rhs_2bp(t,X):\n",
    "    x,y,vx,vy=X\n",
    "    mu=398600.433\n",
    "    \n",
    "    r=np.sqrt(x**2+y**2)\n",
    "    r3=r*r*r\n",
    "    x_dot=vx\n",
    "    y_dot=vy\n",
    "    \n",
    "    vx_dot=-mu*x/r3\n",
    "    vy_dot=-mu*y/r3\n",
    "    \n",
    "    return [x_dot,y_dot,vx_dot,vy_dot]"
   ]
  },
  {
   "cell_type": "code",
   "execution_count": 4,
   "id": "7648490c-5651-4935-9f85-3c3a84d5ea1c",
   "metadata": {},
   "outputs": [],
   "source": [
    "rearth=6371 #Earth Radius in km\n",
    "mu=398600.433 #Earth's mu in km^3/s^2\n",
    "H=400 #Satellite's initial height in km\n",
    "x0=0 #Satellite's initial x position in km\n",
    "y0=rearth+H #Satellite's initial y position in km\n",
    "r0=np.sqrt(x0**2 + y0**2) #Initial orbit radius\n",
    "vc=np.sqrt(mu/r0) #Initial speed of satellite\n",
    "vx0=-vc\n",
    "vy0=0\n",
    "T=2*np.pi/vc*(rearth+H) #Orbital period of satellite\n",
    "ICCAR=[x0,y0,vx0,vy0] #Initial conditions in cartesian coordinates\n"
   ]
  },
  {
   "cell_type": "code",
   "execution_count": 12,
   "id": "1e9c24b1-913d-4ce8-96f7-a9f8ced503e6",
   "metadata": {},
   "outputs": [
    {
     "name": "stderr",
     "output_type": "stream",
     "text": [
      "C:\\Users\\Areti\\anaconda3\\lib\\site-packages\\scipy\\integrate\\_ivp\\common.py:46: UserWarning: `rtol` is too low, setting to 2.220446049250313e-14\n",
      "  warn(\"`rtol` is too low, setting to {}\".format(100 * EPS))\n"
     ]
    }
   ],
   "source": [
    "sol=solve_ivp(rhs_2bp,[1e-4,6000*T],ICCAR,method='DOP853',atol=1e-18,rtol=1e-16)\n",
    "new_radius=np.sqrt(sol.y[0][-1]**2 + sol.y[1][-1]**2)\n",
    "error_radius=(-new_radius+(rearth+H))/(rearth+H)"
   ]
  },
  {
   "cell_type": "code",
   "execution_count": 14,
   "id": "d528cd26-14a4-4ae1-b85a-0cbae54ce62b",
   "metadata": {},
   "outputs": [
    {
     "data": {
      "text/plain": [
       "[<matplotlib.lines.Line2D at 0x1d32007a4c0>]"
      ]
     },
     "execution_count": 14,
     "metadata": {},
     "output_type": "execute_result"
    },
    {
     "data": {
      "image/png": "[encoded data removed]",
      "text/plain": [
       "<Figure size 432x288 with 1 Axes>"
      ]
     },
     "metadata": {
      "needs_background": "light"
     },
     "output_type": "display_data"
    }
   ],
   "source": [
    "# Figure 0 Settings\n",
    "plt.figure(0)\n",
    "plt.xlabel(\"Time (sec)\")\n",
    "plt.ylabel(\"Error in radius  (km)\")\n",
    "plt.grid()\n",
    "plt.title('Orbit Radius Absolute Error Rnew - Ro')\n",
    "plt.plot(sol.t,abs(np.sqrt(sol.y[0]**2 + sol.y[1]**2)-(rearth+H)))"
   ]
  },
  {
   "cell_type": "markdown",
   "id": "df026cf1-1c84-4fee-9a5e-0f60ec951f7a",
   "metadata": {},
   "source": [
    "### Conclusions\n",
    "In this script our goal is to numerically integrate the differential equations of a satellite in cartesian coordinates.  \n",
    "There are no pertubations in the system we are simulating.  \n",
    "\n",
    "\n",
    "The only force affecting the satellite is considered to be Earth's gravitational pull.  \n",
    "\n",
    "Thus, we expect the orbital elements to remain unchanged during the orbit propagation, since no pertubative forces affect the movement of the satellite.  \n",
    "\n",
    "However, as we observe from the figure above, as well as from the error in the computation of the satellite's orbital radius the initial orbital radius changes in the n-th decimal, where n is the accuracy of the computational system running the script.  \n",
    "\n",
    "The integration time span is 6000 orbital periods.  \n",
    "\n",
    "From this script we confirm the orbital stability of the satellite. "
   ]
  },
  {
   "cell_type": "code",
   "execution_count": 15,
   "id": "0e177e32-bb56-4257-8c40-2b94e911e80c",
   "metadata": {},
   "outputs": [
    {
     "name": "stdout",
     "output_type": "stream",
     "text": [
      "Error in height is  6.273512043465457e-10 %\n"
     ]
    }
   ],
   "source": [
    "print(\"Error in height is \", error_radius*100,\"%\")"
   ]
  }
 ],
 "metadata": {
  "kernelspec": {
   "display_name": "Python 3 (ipykernel)",
   "language": "python",
   "name": "python3"
  },
  "language_info": {
   "codemirror_mode": {
    "name": "ipython",
    "version": 3
   },
   "file_extension": ".py",
   "mimetype": "text/x-python",
   "name": "python",
   "nbconvert_exporter": "python",
   "pygments_lexer": "ipython3",
   "version": "3.9.12"
  }
 },
 "nbformat": 4,
 "nbformat_minor": 5
}
