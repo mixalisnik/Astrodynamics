{
 "cells": [
  {
   "cell_type": "markdown",
   "id": "435cc893-9bb4-4d28-a205-98cc97851448",
   "metadata": {},
   "source": [
    "**Mixalis Nikitaras**  \n",
    "# Computational Dynamics, Astrodynamics and Applications\n",
    "## Exercise 2\n",
    "### Task 2"
   ]
  },
  {
   "cell_type": "code",
   "execution_count": 11,
   "id": "16698fdc-f204-4032-8a94-62dbe283e00c",
   "metadata": {},
   "outputs": [],
   "source": [
    "import numpy as np\n",
    "from matplotlib import pyplot as plt\n",
    "from mpl_toolkits.mplot3d import Axes3D\n",
    "from scipy.integrate import solve_ivp\n",
    "from scipy.integrate import simpson\n",
    "import math as m"
   ]
  },
  {
   "cell_type": "markdown",
   "id": "c0fcb70c-fac8-43e3-8467-f855ec62d507",
   "metadata": {},
   "source": [
    "# Function Definitions"
   ]
  },
  {
   "cell_type": "code",
   "execution_count": 2,
   "id": "b05c991b-06ac-4d6c-9735-79cf90c3ad77",
   "metadata": {},
   "outputs": [],
   "source": [
    "#This function computes the height of the satellite\n",
    "def H(r):\n",
    "    r_earth=6371\n",
    "    return r-r_earth"
   ]
  },
  {
   "cell_type": "code",
   "execution_count": 3,
   "id": "372e2dc7-593e-4c4d-aa26-133bc3717269",
   "metadata": {},
   "outputs": [],
   "source": [
    "#This function computes the density of Earth's atmosphere in kg/m^3 for each height h in km\n",
    "def rho(h):\n",
    "    if h<15:\n",
    "        r_0=0.1\n",
    "    else:\n",
    "        r_0=(0.1*h)**(-7.5)\n",
    "    return r_0"
   ]
  },
  {
   "cell_type": "code",
   "execution_count": 4,
   "id": "8a177322-dbad-4b15-b2f4-41f0a91c8e74",
   "metadata": {},
   "outputs": [],
   "source": [
    "#Define System of Differential Equations\n",
    "def rhs_2bp_pert(t,X):\n",
    "    x,y,vx,vy=X\n",
    "    mu=398600.433\n",
    "    S=8000\n",
    "    m_sat=400000\n",
    "    r=np.sqrt(x**2+y**2)\n",
    "    r3=r*r*r\n",
    "    v=np.sqrt(vx**2+vy**2)\n",
    "    x_dot=vx\n",
    "    y_dot=vy\n",
    "    px=-1000*(rho(H(r))*v*x_dot*(1.5*S/(2*m_sat)))\n",
    "    py=-1000*(rho(H(r))*v*y_dot*(1.5*S/(2*m_sat)))\n",
    "    vx_dot=-mu*x/r3 + px\n",
    "    vy_dot=-mu*y/r3 + py\n",
    "    \n",
    "    return [x_dot,y_dot,vx_dot,vy_dot]"
   ]
  },
  {
   "cell_type": "code",
   "execution_count": 5,
   "id": "4f534651-2091-4852-a112-08c2e50ad4a2",
   "metadata": {},
   "outputs": [],
   "source": [
    "#Define integration stop. The differential equations are integrated until the satellite's height (r-r_earth) reaches zero.\n",
    "def stop(t,X):\n",
    "    x,y,vx,vy=X\n",
    "    r_earth=6371\n",
    "    return np.sqrt(x**2+y**2)-r_earth\n",
    "\n",
    "stop.terminal = True"
   ]
  },
  {
   "cell_type": "code",
   "execution_count": 23,
   "id": "25a0fe59-1464-4a25-aae8-25038b88222b",
   "metadata": {},
   "outputs": [],
   "source": [
    "t0=0\n",
    "rearth=6371 #Earth Radius in km\n",
    "mu=398600.433 #Earth's mu in km^3/s^2\n",
    "H1=400 #Satellite's initial height in km\n",
    "x0=0 #Satellite's initial x position in km\n",
    "y0=rearth+H1 #Satellite's initial y position in km\n",
    "r0=np.sqrt(x0**2 + y0**2) #Initial orbit radius\n",
    "vc=np.sqrt(mu/r0) #Initial speed of satellite\n",
    "vx0=-vc\n",
    "vy0=0\n",
    "T=2*np.pi/vc*(rearth+H1) #Orbital period of satellite\n",
    "tmax=8000*T\n",
    "ICCAR=[x0,y0,vx0,vy0] #Initial conditions in cartesian coordinates"
   ]
  },
  {
   "cell_type": "code",
   "execution_count": 24,
   "id": "a6eb9289-c0ae-4475-9dcb-5e7c699d9fbe",
   "metadata": {},
   "outputs": [],
   "source": [
    "sol=solve_ivp(rhs_2bp_pert,[0,tmax],ICCAR,t_eval=np.linspace(0,tmax,20*8000),events=stop,method='DOP853',atol=1e-12,rtol=1e-12)"
   ]
  },
  {
   "cell_type": "code",
   "execution_count": 25,
   "id": "4c13446b-c39e-4be4-807b-a94ec512d1e1",
   "metadata": {},
   "outputs": [
    {
     "data": {
      "text/plain": [
       "[<matplotlib.lines.Line2D at 0x1f06cf50490>]"
      ]
     },
     "execution_count": 25,
     "metadata": {},
     "output_type": "execute_result"
    },
    {
     "data": {
      "image/png": "[encoded data removed]",
      "text/plain": [
       "<Figure size 432x288 with 1 Axes>"
      ]
     },
     "metadata": {
      "needs_background": "light"
     },
     "output_type": "display_data"
    }
   ],
   "source": [
    "# Figure 0 Settings\n",
    "plt.figure(0)\n",
    "plt.xlabel(\"x (km)\")\n",
    "plt.ylabel(\"y (km)\")\n",
    "plt.grid()\n",
    "plt.title('Orbit of satellite affected by Stoke\\'s Drag for 6000 Periods')\n",
    "\n",
    "plt.plot(sol.y[0],sol.y[1])\n"
   ]
  },
  {
   "cell_type": "markdown",
   "id": "259c180d-9ecc-463a-af43-7870fc99b327",
   "metadata": {},
   "source": []
  },
  {
   "cell_type": "markdown",
   "id": "21993df1-3aae-48b2-98e5-a81df53a86f5",
   "metadata": {},
   "source": [
    "### Gauss Equations"
   ]
  },
  {
   "cell_type": "code",
   "execution_count": 26,
   "id": "30683104-d8fb-4bab-8833-499ea1b7edcf",
   "metadata": {},
   "outputs": [
    {
     "name": "stdout",
     "output_type": "stream",
     "text": [
      "Time needed for the satellite to fall to Earth's surface according to Gauss Equations:  31385872.05727548 seconds\n",
      "Time needed for the satellite to fall to Earth's surface according to the simulation:  31387680.51854152 seconds\n",
      "Relative Error :  0.005762023316543748 %\n"
     ]
    }
   ],
   "source": [
    "H1=np.linspace(400,15,1000) \n",
    "H2=np.linspace(15,0,1000) \n",
    "\n",
    "m=400000 #kg\n",
    "R_e=6371 #km\n",
    "S=8*10**(-3) #km^2\n",
    "mu=398600.433 #km^3/s^2\n",
    "const=1.5*S/m \n",
    "def func1(x):\n",
    "    res=-1/(np.sqrt(mu*(x+R_e))*10**9*(0.1*x)**(-7.5))\n",
    "    return res\n",
    "def func2(x):\n",
    "    res=-1/(np.sqrt(mu*(x+R_e))*(0.1*10**9))\n",
    "    return res\n",
    "\n",
    "y1=func1(H1)    \n",
    "I1=simpson(y1,H1,dx=0.001)\n",
    "\n",
    "y2=func2(H2)    \n",
    "I2=simpson(y2,H2,dx=0.001)\n",
    "\n",
    "t=I1/const + I2/const\n",
    "error_1=(-t+sol.t[-1])/t\n",
    "print(\"Time needed for the satellite to fall to Earth\\'s surface according to Gauss Equations: \",np.round(t,8),\"seconds\")\n",
    "print(\"Time needed for the satellite to fall to Earth\\'s surface according to the simulation: \",sol.t[-1],\"seconds\")\n",
    "print(\"Relative Error : \",error_1*100,\"%\")"
   ]
  },
  {
   "cell_type": "markdown",
   "id": "7fddcc54-0355-4083-8261-87af86720be3",
   "metadata": {},
   "source": [
    "### Conclusions\n",
    "In this script our goal is to numerically integrate the differential equations of a satellite in cartesian coordinates  \n",
    "The system is considered pertrubed from Stoke's drag.  \n",
    "The integration time span is 6000 orbital periods.  \n",
    "The orbit of the satellite is plotted in the figure above. As we see, the orbital radius progressively decreases.  \n",
    "We compute the time needed for the satellite to impact the earth's surface due to the pertubative force of Stoke's drag.  \n",
    "Next, we calculate the theoretical time according to the prediction from Gauss Equations.  \n",
    "We find that the simulation time coincides with the theoretical time."
   ]
  },
  {
   "cell_type": "code",
   "execution_count": null,
   "id": "87e311f4-1e32-4d69-a507-a2467a2c009d",
   "metadata": {},
   "outputs": [],
   "source": []
  }
 ],
 "metadata": {
  "kernelspec": {
   "display_name": "Python 3 (ipykernel)",
   "language": "python",
   "name": "python3"
  },
  "language_info": {
   "codemirror_mode": {
    "name": "ipython",
    "version": 3
   },
   "file_extension": ".py",
   "mimetype": "text/x-python",
   "name": "python",
   "nbconvert_exporter": "python",
   "pygments_lexer": "ipython3",
   "version": "3.9.12"
  }
 },
 "nbformat": 4,
 "nbformat_minor": 5
}
